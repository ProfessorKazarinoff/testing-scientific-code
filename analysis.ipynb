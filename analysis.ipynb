{
 "cells": [
  {
   "cell_type": "code",
   "execution_count": 1,
   "metadata": {},
   "outputs": [
    {
     "name": "stdout",
     "output_type": "stream",
     "text": [
      "Tensile Strength=252265.16045864718\n",
      "Total Extension=0.00750601755\n"
     ]
    },
    {
     "data": {
      "image/png": "[encoded data removed]",
      "text/plain": [
       "<Figure size 432x288 with 1 Axes>"
      ]
     },
     "metadata": {
      "needs_background": "light"
     },
     "output_type": "display_data"
    }
   ],
   "source": [
    "# analysis.ipynb\n",
    "\n",
    "import numpy as np\n",
    "import pandas as pd\n",
    "import matplotlib.pyplot as plt\n",
    "\n",
    "\n",
    "raw_data_df = pd.read_csv('data/raw_data.csv')\n",
    "\n",
    "raw_data_array = np.array(raw_data_df)\n",
    "cleaned_data_array = raw_data_array[1:,:]\n",
    "\n",
    "d = 0.506\n",
    "A0 = np.pi*(d/2)**2\n",
    "F = cleaned_data_array[:,4]\n",
    "stress = F/A0\n",
    "strain = cleaned_data_array[:,5]*0.01\n",
    "ts = np.max(stress)\n",
    "te = np.max(strain)-np.min(strain)\n",
    "print(f'Tensile Strength={ts}')\n",
    "print(f'Total Extension={te}')\n",
    "\n",
    "fig, ax = plt.subplots()\n",
    "ax.plot(strain,stress)\n",
    "ax.set_xlabel(\"Strain (mm/mm)\")\n",
    "ax.set_ylabel(\"Stress (MPa)\")\n",
    "plt.savefig(\"plot.png\")\n",
    "plt.show()"
   ]
  },
  {
   "cell_type": "code",
   "execution_count": 1,
   "metadata": {},
   "outputs": [
    {
     "name": "stdout",
     "output_type": "stream",
     "text": [
      " Volume in drive C is OS\n",
      " Volume Serial Number is 1236-A93E\n",
      "\n",
      " Directory of C:\\Users\\peter.kazarinoff\\Documents\\testing-scientific-code\n",
      "\n",
      "02/21/2021  08:18 PM    <DIR>          .\n",
      "02/21/2021  08:18 PM    <DIR>          ..\n",
      "02/21/2021  12:14 PM             4,351 .gitignore\n",
      "02/21/2021  08:00 PM    <DIR>          .ipynb_checkpoints\n",
      "02/21/2021  08:10 PM            16,834 analysis.ipynb\n",
      "02/21/2021  08:13 PM               645 analysis.py\n",
      "02/17/2021  09:29 AM    <DIR>          data\n",
      "02/17/2021  09:29 AM            35,823 LICENSE\n",
      "02/21/2021  08:14 PM            22,543 plot.png\n",
      "02/19/2021  08:04 PM             1,099 README.md\n",
      "02/21/2021  08:18 PM                60 requirements.txt\n",
      "02/17/2021  10:00 AM                14 runtime.txt\n",
      "02/21/2021  12:16 PM    <DIR>          tests\n",
      "               8 File(s)         81,369 bytes\n",
      "               5 Dir(s)  61,917,007,872 bytes free\n"
     ]
    }
   ],
   "source": [
    "%ls"
   ]
  },
  {
   "cell_type": "code",
   "execution_count": 3,
   "metadata": {},
   "outputs": [
    {
     "data": {
      "text/plain": [
       "WindowsPath('C:/Users/peter.kazarinoff/Documents/testing-scientific-code/runtime.txt')"
      ]
     },
     "execution_count": 3,
     "metadata": {},
     "output_type": "execute_result"
    }
   ],
   "source": [
    "from pathlib import Path\n",
    "\n",
    "fp = Path(Path.cwd(),'runtime.txt')\n",
    "fp"
   ]
  },
  {
   "cell_type": "code",
   "execution_count": 16,
   "metadata": {},
   "outputs": [],
   "source": [
    "with open(fp,'r') as f:\n",
    "    v = f.readline().strip().split(\"-\")[1]"
   ]
  },
  {
   "cell_type": "code",
   "execution_count": 17,
   "metadata": {},
   "outputs": [
    {
     "data": {
      "text/plain": [
       "'3.8.3'"
      ]
     },
     "execution_count": 17,
     "metadata": {},
     "output_type": "execute_result"
    }
   ],
   "source": [
    "v"
   ]
  },
  {
   "cell_type": "code",
   "execution_count": 19,
   "metadata": {},
   "outputs": [
    {
     "data": {
      "text/plain": [
       "WindowsPath('C:/Users/peter.kazarinoff/Documents/runtime.txt')"
      ]
     },
     "execution_count": 19,
     "metadata": {},
     "output_type": "execute_result"
    }
   ],
   "source": [
    "fp = Path(Path.cwd().parent,'runtime.txt')\n",
    "fp"
   ]
  },
  {
   "cell_type": "code",
   "execution_count": 1,
   "metadata": {},
   "outputs": [
    {
     "output_type": "execute_result",
     "data": {
      "text/plain": [
       "WindowsPath('c:/Users/peter.kazarinoff/Documents/testing-scientific-code/requirements.txt')"
      ]
     },
     "metadata": {},
     "execution_count": 1
    }
   ],
   "source": [
    "from pathlib import Path\n",
    "\n",
    "fp = Path(Path.cwd(),'requirements.txt')\n",
    "fp"
   ]
  },
  {
   "cell_type": "code",
   "execution_count": 2,
   "metadata": {},
   "outputs": [],
   "source": [
    "with open(fp,'r') as f:\n",
    "    v = f.readlines()"
   ]
  },
  {
   "cell_type": "code",
   "execution_count": 3,
   "metadata": {},
   "outputs": [
    {
     "output_type": "execute_result",
     "data": {
      "text/plain": [
       "['numpy==1.18.5\\n',\n",
       " 'pandas==1.0.5\\n',\n",
       " 'matplotlib==3.2.2\\n',\n",
       " 'pytest==5.4.3\\n']"
      ]
     },
     "metadata": {},
     "execution_count": 3
    }
   ],
   "source": [
    "v"
   ]
  },
  {
   "cell_type": "code",
   "execution_count": 6,
   "metadata": {},
   "outputs": [
    {
     "output_type": "execute_result",
     "data": {
      "text/plain": [
       "{'numpy': '1.18.5',\n",
       " 'pandas': '1.0.5',\n",
       " 'matplotlib': '3.2.2',\n",
       " 'pytest': '5.4.3'}"
      ]
     },
     "metadata": {},
     "execution_count": 6
    }
   ],
   "source": [
    "d={}\n",
    "for l in v:\n",
    "    r = l.split(\"==\")[0]\n",
    "    ver = l.split(\"==\")[1].strip()\n",
    "    d[r]=ver\n",
    "d\n"
   ]
  },
  {
   "cell_type": "code",
   "execution_count": null,
   "metadata": {},
   "outputs": [],
   "source": []
  }
 ],
 "metadata": {
  "kernelspec": {
   "display_name": "Python 3",
   "language": "python",
   "name": "python3"
  },
  "language_info": {
   "codemirror_mode": {
    "name": "ipython",
    "version": 3
   },
   "file_extension": ".py",
   "mimetype": "text/x-python",
   "name": "python",
   "nbconvert_exporter": "python",
   "pygments_lexer": "ipython3",
   "version": "3.8.3-final"
  }
 },
 "nbformat": 4,
 "nbformat_minor": 4
}