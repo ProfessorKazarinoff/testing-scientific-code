{
 "cells": [
  {
   "cell_type": "code",
   "execution_count": 1,
   "metadata": {},
   "outputs": [],
   "source": [
    "import sys\n",
    "import platform\n",
    "import os\n",
    "\n",
    "import numpy as np\n",
    "import pandas as pd\n",
    "import matplotlib.pyplot as plt\n",
    "import matplotlib as mp\n",
    "%matplotlib inline"
   ]
  },
  {
   "cell_type": "code",
   "execution_count": 2,
   "metadata": {},
   "outputs": [
    {
     "name": "stdout",
     "output_type": "stream",
     "text": [
      "NumPy version: 1.18.1\n",
      "Pandas version: 1.0.1\n",
      "Matplotlib version: 3.1.3\n",
      "\n",
      "Operating System: Linux 5.3.0-40-generic\n",
      "Python version: 3.7.6\n",
      "encoding: utf-8\n"
     ]
    }
   ],
   "source": [
    "print(f'NumPy version: {np.__version__}')\n",
    "print(f'Pandas version: {pd.__version__}')\n",
    "print(f'Matplotlib version: {mp.__version__}')\n",
    "print()\n",
    "print(f'Operating System: {platform.system()} {platform.release()}')\n",
    "print(f'Python version: {platform.python_version()}') # sys.version_info or sys.version_info.major and sys.version_info.minor\n",
    "print(f'encoding: {sys.getfilesystemencoding()}')"
   ]
  },
  {
   "cell_type": "code",
   "execution_count": 3,
   "metadata": {},
   "outputs": [
    {
     "name": "stdout",
     "output_type": "stream",
     "text": [
      "analysis.ipynb  analysis_script.py  LICENSE    \u001b[0m\u001b[01;34mtests\u001b[0m/\r\n",
      "analysis.py     \u001b[01;34mdata\u001b[0m/               README.md\r\n"
     ]
    }
   ],
   "source": [
    "%ls"
   ]
  },
  {
   "cell_type": "code",
   "execution_count": 4,
   "metadata": {},
   "outputs": [],
   "source": [
    "raw_data_df = pd.read_csv('data/raw_data.csv')"
   ]
  },
  {
   "cell_type": "code",
   "execution_count": 5,
   "metadata": {},
   "outputs": [
    {
     "data": {
      "text/html": [
       "<div>\n",
       "<style scoped>\n",
       "    .dataframe tbody tr th:only-of-type {\n",
       "        vertical-align: middle;\n",
       "    }\n",
       "\n",
       "    .dataframe tbody tr th {\n",
       "        vertical-align: top;\n",
       "    }\n",
       "\n",
       "    .dataframe thead th {\n",
       "        text-align: right;\n",
       "    }\n",
       "</style>\n",
       "<table border=\"1\" class=\"dataframe\">\n",
       "  <thead>\n",
       "    <tr style=\"text-align: right;\">\n",
       "      <th></th>\n",
       "      <th>TESTNUM</th>\n",
       "      <th>POINTNUM</th>\n",
       "      <th>TIME</th>\n",
       "      <th>POSIT</th>\n",
       "      <th>FORCE</th>\n",
       "      <th>EXT</th>\n",
       "      <th>CH5</th>\n",
       "    </tr>\n",
       "  </thead>\n",
       "  <tbody>\n",
       "    <tr>\n",
       "      <th>0</th>\n",
       "      <td>NaN</td>\n",
       "      <td>NaN</td>\n",
       "      <td>NaN</td>\n",
       "      <td>NaN</td>\n",
       "      <td>NaN</td>\n",
       "      <td>NaN</td>\n",
       "      <td>NaN</td>\n",
       "    </tr>\n",
       "    <tr>\n",
       "      <th>1</th>\n",
       "      <td>533.0</td>\n",
       "      <td>1.0</td>\n",
       "      <td>6.531</td>\n",
       "      <td>0.05536</td>\n",
       "      <td>321.948224</td>\n",
       "      <td>0.000480</td>\n",
       "      <td>-0.008732</td>\n",
       "    </tr>\n",
       "    <tr>\n",
       "      <th>2</th>\n",
       "      <td>533.0</td>\n",
       "      <td>2.0</td>\n",
       "      <td>8.574</td>\n",
       "      <td>0.06324</td>\n",
       "      <td>664.879256</td>\n",
       "      <td>0.000967</td>\n",
       "      <td>-0.019413</td>\n",
       "    </tr>\n",
       "    <tr>\n",
       "      <th>3</th>\n",
       "      <td>533.0</td>\n",
       "      <td>3.0</td>\n",
       "      <td>9.070</td>\n",
       "      <td>0.06520</td>\n",
       "      <td>1014.583387</td>\n",
       "      <td>0.001501</td>\n",
       "      <td>-0.025799</td>\n",
       "    </tr>\n",
       "    <tr>\n",
       "      <th>4</th>\n",
       "      <td>533.0</td>\n",
       "      <td>4.0</td>\n",
       "      <td>12.874</td>\n",
       "      <td>0.08102</td>\n",
       "      <td>1340.063328</td>\n",
       "      <td>0.002015</td>\n",
       "      <td>-0.028507</td>\n",
       "    </tr>\n",
       "  </tbody>\n",
       "</table>\n",
       "</div>"
      ],
      "text/plain": [
       "   TESTNUM  POINTNUM    TIME    POSIT        FORCE       EXT       CH5\n",
       "0      NaN       NaN     NaN      NaN          NaN       NaN       NaN\n",
       "1    533.0       1.0   6.531  0.05536   321.948224  0.000480 -0.008732\n",
       "2    533.0       2.0   8.574  0.06324   664.879256  0.000967 -0.019413\n",
       "3    533.0       3.0   9.070  0.06520  1014.583387  0.001501 -0.025799\n",
       "4    533.0       4.0  12.874  0.08102  1340.063328  0.002015 -0.028507"
      ]
     },
     "execution_count": 5,
     "metadata": {},
     "output_type": "execute_result"
    }
   ],
   "source": [
    "raw_data_df.head()"
   ]
  },
  {
   "cell_type": "code",
   "execution_count": 6,
   "metadata": {},
   "outputs": [],
   "source": [
    "raw_data_array = np.array(raw_data_df)"
   ]
  },
  {
   "cell_type": "code",
   "execution_count": 7,
   "metadata": {},
   "outputs": [],
   "source": [
    "cleaned_data_array = raw_data_array[1:,:]"
   ]
  },
  {
   "cell_type": "code",
   "execution_count": 8,
   "metadata": {},
   "outputs": [],
   "source": [
    "d = 0.506\n",
    "A0 = np.pi*(d/2)**2\n",
    "F = cleaned_data_array[:,4]\n",
    "stress = F/A0\n",
    "strain = cleaned_data_array[:,5]*0.01"
   ]
  },
  {
   "cell_type": "code",
   "execution_count": 9,
   "metadata": {},
   "outputs": [
    {
     "data": {
      "image/png": "[encoded data removed]",
      "text/plain": [
       "<Figure size 432x288 with 1 Axes>"
      ]
     },
     "metadata": {
      "needs_background": "light"
     },
     "output_type": "display_data"
    }
   ],
   "source": [
    "fig, ax = plt.subplots()\n",
    "ax.plot(strain,stress)\n",
    "#ax.set_xlabel(\"Strain (mm/mm)\")\n",
    "ax.set_ylabel(\"Stress (MPa)\")\n",
    "plt.show()"
   ]
  },
  {
   "cell_type": "code",
   "execution_count": 10,
   "metadata": {},
   "outputs": [],
   "source": [
    "ts = np.max(stress)\n",
    "te = np.max(strain)-np.min(strain)"
   ]
  },
  {
   "cell_type": "code",
   "execution_count": 11,
   "metadata": {},
   "outputs": [
    {
     "name": "stdout",
     "output_type": "stream",
     "text": [
      "Tensile Strength=252265.16045864718\n",
      "Total Extension=0.00750601755\n"
     ]
    }
   ],
   "source": [
    "print(f'Tensile Strength={ts}')\n",
    "print(f'Total Extension={te}')"
   ]
  }
 ],
 "metadata": {
  "kernelspec": {
   "display_name": "Python 3",
   "language": "python",
   "name": "python3"
  },
  "language_info": {
   "codemirror_mode": {
    "name": "ipython",
    "version": 3
   },
   "file_extension": ".py",
   "mimetype": "text/x-python",
   "name": "python",
   "nbconvert_exporter": "python",
   "pygments_lexer": "ipython3",
   "version": "3.7.6"
  }
 },
 "nbformat": 4,
 "nbformat_minor": 4
}
